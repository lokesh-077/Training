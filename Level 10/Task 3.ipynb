{
 "cells": [
  {
   "cell_type": "markdown",
   "metadata": {},
   "source": [
    "Sales Trend Hypothesis Test"
   ]
  },
  {
   "cell_type": "code",
   "execution_count": 3,
   "metadata": {},
   "outputs": [],
   "source": [
    "import pandas as pd\n",
    "import numpy as np\n",
    "import scipy.stats as stats\n",
    "import seaborn as sns\n",
    "import matplotlib.pyplot as plt"
   ]
  },
  {
   "cell_type": "code",
   "execution_count": 4,
   "metadata": {},
   "outputs": [
    {
     "data": {
      "application/vnd.microsoft.datawrangler.viewer.v0+json": {
       "columns": [
        {
         "name": "index",
         "rawType": "int64",
         "type": "integer"
        },
        {
         "name": "InvoiceNo",
         "rawType": "object",
         "type": "string"
        },
        {
         "name": "StockCode",
         "rawType": "object",
         "type": "string"
        },
        {
         "name": "Description",
         "rawType": "object",
         "type": "unknown"
        },
        {
         "name": "Quantity",
         "rawType": "int64",
         "type": "integer"
        },
        {
         "name": "InvoiceDate",
         "rawType": "object",
         "type": "string"
        },
        {
         "name": "UnitPrice",
         "rawType": "float64",
         "type": "float"
        },
        {
         "name": "CustomerID",
         "rawType": "float64",
         "type": "float"
        },
        {
         "name": "Country",
         "rawType": "object",
         "type": "string"
        }
       ],
       "conversionMethod": "pd.DataFrame",
       "ref": "b6a4c169-2b8b-41fa-9626-84e80038dfeb",
       "rows": [
        [
         "0",
         "536365",
         "85123A",
         "WHITE HANGING HEART T-LIGHT HOLDER",
         "6",
         "12/1/2010 8:26",
         "2.55",
         "17850.0",
         "United Kingdom"
        ],
        [
         "1",
         "536365",
         "71053",
         "WHITE METAL LANTERN",
         "6",
         "12/1/2010 8:26",
         "3.39",
         "17850.0",
         "United Kingdom"
        ],
        [
         "2",
         "536365",
         "84406B",
         "CREAM CUPID HEARTS COAT HANGER",
         "8",
         "12/1/2010 8:26",
         "2.75",
         "17850.0",
         "United Kingdom"
        ],
        [
         "3",
         "536365",
         "84029G",
         "KNITTED UNION FLAG HOT WATER BOTTLE",
         "6",
         "12/1/2010 8:26",
         "3.39",
         "17850.0",
         "United Kingdom"
        ],
        [
         "4",
         "536365",
         "84029E",
         "RED WOOLLY HOTTIE WHITE HEART.",
         "6",
         "12/1/2010 8:26",
         "3.39",
         "17850.0",
         "United Kingdom"
        ],
        [
         "5",
         "536365",
         "22752",
         "SET 7 BABUSHKA NESTING BOXES",
         "2",
         "12/1/2010 8:26",
         "7.65",
         "17850.0",
         "United Kingdom"
        ],
        [
         "6",
         "536365",
         "21730",
         "GLASS STAR FROSTED T-LIGHT HOLDER",
         "6",
         "12/1/2010 8:26",
         "4.25",
         "17850.0",
         "United Kingdom"
        ],
        [
         "7",
         "536366",
         "22633",
         "HAND WARMER UNION JACK",
         "6",
         "12/1/2010 8:28",
         "1.85",
         "17850.0",
         "United Kingdom"
        ],
        [
         "8",
         "536366",
         "22632",
         "HAND WARMER RED POLKA DOT",
         "6",
         "12/1/2010 8:28",
         "1.85",
         "17850.0",
         "United Kingdom"
        ],
        [
         "9",
         "536367",
         "84879",
         "ASSORTED COLOUR BIRD ORNAMENT",
         "32",
         "12/1/2010 8:34",
         "1.69",
         "13047.0",
         "United Kingdom"
        ],
        [
         "10",
         "536367",
         "22745",
         "POPPY'S PLAYHOUSE BEDROOM ",
         "6",
         "12/1/2010 8:34",
         "2.1",
         "13047.0",
         "United Kingdom"
        ],
        [
         "11",
         "536367",
         "22748",
         "POPPY'S PLAYHOUSE KITCHEN",
         "6",
         "12/1/2010 8:34",
         "2.1",
         "13047.0",
         "United Kingdom"
        ],
        [
         "12",
         "536367",
         "22749",
         "FELTCRAFT PRINCESS CHARLOTTE DOLL",
         "8",
         "12/1/2010 8:34",
         "3.75",
         "13047.0",
         "United Kingdom"
        ],
        [
         "13",
         "536367",
         "22310",
         "IVORY KNITTED MUG COSY ",
         "6",
         "12/1/2010 8:34",
         "1.65",
         "13047.0",
         "United Kingdom"
        ],
        [
         "14",
         "536367",
         "84969",
         "BOX OF 6 ASSORTED COLOUR TEASPOONS",
         "6",
         "12/1/2010 8:34",
         "4.25",
         "13047.0",
         "United Kingdom"
        ],
        [
         "15",
         "536367",
         "22623",
         "BOX OF VINTAGE JIGSAW BLOCKS ",
         "3",
         "12/1/2010 8:34",
         "4.95",
         "13047.0",
         "United Kingdom"
        ],
        [
         "16",
         "536367",
         "22622",
         "BOX OF VINTAGE ALPHABET BLOCKS",
         "2",
         "12/1/2010 8:34",
         "9.95",
         "13047.0",
         "United Kingdom"
        ],
        [
         "17",
         "536367",
         "21754",
         "HOME BUILDING BLOCK WORD",
         "3",
         "12/1/2010 8:34",
         "5.95",
         "13047.0",
         "United Kingdom"
        ],
        [
         "18",
         "536367",
         "21755",
         "LOVE BUILDING BLOCK WORD",
         "3",
         "12/1/2010 8:34",
         "5.95",
         "13047.0",
         "United Kingdom"
        ],
        [
         "19",
         "536367",
         "21777",
         "RECIPE BOX WITH METAL HEART",
         "4",
         "12/1/2010 8:34",
         "7.95",
         "13047.0",
         "United Kingdom"
        ],
        [
         "20",
         "536367",
         "48187",
         "DOORMAT NEW ENGLAND",
         "4",
         "12/1/2010 8:34",
         "7.95",
         "13047.0",
         "United Kingdom"
        ],
        [
         "21",
         "536368",
         "22960",
         "JAM MAKING SET WITH JARS",
         "6",
         "12/1/2010 8:34",
         "4.25",
         "13047.0",
         "United Kingdom"
        ],
        [
         "22",
         "536368",
         "22913",
         "RED COAT RACK PARIS FASHION",
         "3",
         "12/1/2010 8:34",
         "4.95",
         "13047.0",
         "United Kingdom"
        ],
        [
         "23",
         "536368",
         "22912",
         "YELLOW COAT RACK PARIS FASHION",
         "3",
         "12/1/2010 8:34",
         "4.95",
         "13047.0",
         "United Kingdom"
        ],
        [
         "24",
         "536368",
         "22914",
         "BLUE COAT RACK PARIS FASHION",
         "3",
         "12/1/2010 8:34",
         "4.95",
         "13047.0",
         "United Kingdom"
        ],
        [
         "25",
         "536369",
         "21756",
         "BATH BUILDING BLOCK WORD",
         "3",
         "12/1/2010 8:35",
         "5.95",
         "13047.0",
         "United Kingdom"
        ],
        [
         "26",
         "536370",
         "22728",
         "ALARM CLOCK BAKELIKE PINK",
         "24",
         "12/1/2010 8:45",
         "3.75",
         "12583.0",
         "France"
        ],
        [
         "27",
         "536370",
         "22727",
         "ALARM CLOCK BAKELIKE RED ",
         "24",
         "12/1/2010 8:45",
         "3.75",
         "12583.0",
         "France"
        ],
        [
         "28",
         "536370",
         "22726",
         "ALARM CLOCK BAKELIKE GREEN",
         "12",
         "12/1/2010 8:45",
         "3.75",
         "12583.0",
         "France"
        ],
        [
         "29",
         "536370",
         "21724",
         "PANDA AND BUNNIES STICKER SHEET",
         "12",
         "12/1/2010 8:45",
         "0.85",
         "12583.0",
         "France"
        ],
        [
         "30",
         "536370",
         "21883",
         "STARS GIFT TAPE ",
         "24",
         "12/1/2010 8:45",
         "0.65",
         "12583.0",
         "France"
        ],
        [
         "31",
         "536370",
         "10002",
         "INFLATABLE POLITICAL GLOBE ",
         "48",
         "12/1/2010 8:45",
         "0.85",
         "12583.0",
         "France"
        ],
        [
         "32",
         "536370",
         "21791",
         "VINTAGE HEADS AND TAILS CARD GAME ",
         "24",
         "12/1/2010 8:45",
         "1.25",
         "12583.0",
         "France"
        ],
        [
         "33",
         "536370",
         "21035",
         "SET/2 RED RETROSPOT TEA TOWELS ",
         "18",
         "12/1/2010 8:45",
         "2.95",
         "12583.0",
         "France"
        ],
        [
         "34",
         "536370",
         "22326",
         "ROUND SNACK BOXES SET OF4 WOODLAND ",
         "24",
         "12/1/2010 8:45",
         "2.95",
         "12583.0",
         "France"
        ],
        [
         "35",
         "536370",
         "22629",
         "SPACEBOY LUNCH BOX ",
         "24",
         "12/1/2010 8:45",
         "1.95",
         "12583.0",
         "France"
        ],
        [
         "36",
         "536370",
         "22659",
         "LUNCH BOX I LOVE LONDON",
         "24",
         "12/1/2010 8:45",
         "1.95",
         "12583.0",
         "France"
        ],
        [
         "37",
         "536370",
         "22631",
         "CIRCUS PARADE LUNCH BOX ",
         "24",
         "12/1/2010 8:45",
         "1.95",
         "12583.0",
         "France"
        ],
        [
         "38",
         "536370",
         "22661",
         "CHARLOTTE BAG DOLLY GIRL DESIGN",
         "20",
         "12/1/2010 8:45",
         "0.85",
         "12583.0",
         "France"
        ],
        [
         "39",
         "536370",
         "21731",
         "RED TOADSTOOL LED NIGHT LIGHT",
         "24",
         "12/1/2010 8:45",
         "1.65",
         "12583.0",
         "France"
        ],
        [
         "40",
         "536370",
         "22900",
         " SET 2 TEA TOWELS I LOVE LONDON ",
         "24",
         "12/1/2010 8:45",
         "2.95",
         "12583.0",
         "France"
        ],
        [
         "41",
         "536370",
         "21913",
         "VINTAGE SEASIDE JIGSAW PUZZLES",
         "12",
         "12/1/2010 8:45",
         "3.75",
         "12583.0",
         "France"
        ],
        [
         "42",
         "536370",
         "22540",
         "MINI JIGSAW CIRCUS PARADE ",
         "24",
         "12/1/2010 8:45",
         "0.42",
         "12583.0",
         "France"
        ],
        [
         "43",
         "536370",
         "22544",
         "MINI JIGSAW SPACEBOY",
         "24",
         "12/1/2010 8:45",
         "0.42",
         "12583.0",
         "France"
        ],
        [
         "44",
         "536370",
         "22492",
         "MINI PAINT SET VINTAGE ",
         "36",
         "12/1/2010 8:45",
         "0.65",
         "12583.0",
         "France"
        ],
        [
         "45",
         "536370",
         "POST",
         "POSTAGE",
         "3",
         "12/1/2010 8:45",
         "18.0",
         "12583.0",
         "France"
        ],
        [
         "46",
         "536371",
         "22086",
         "PAPER CHAIN KIT 50'S CHRISTMAS ",
         "80",
         "12/1/2010 9:00",
         "2.55",
         "13748.0",
         "United Kingdom"
        ],
        [
         "47",
         "536372",
         "22632",
         "HAND WARMER RED POLKA DOT",
         "6",
         "12/1/2010 9:01",
         "1.85",
         "17850.0",
         "United Kingdom"
        ],
        [
         "48",
         "536372",
         "22633",
         "HAND WARMER UNION JACK",
         "6",
         "12/1/2010 9:01",
         "1.85",
         "17850.0",
         "United Kingdom"
        ],
        [
         "49",
         "536373",
         "85123A",
         "WHITE HANGING HEART T-LIGHT HOLDER",
         "6",
         "12/1/2010 9:02",
         "2.55",
         "17850.0",
         "United Kingdom"
        ]
       ],
       "shape": {
        "columns": 8,
        "rows": 541909
       }
      },
      "text/html": [
       "<div>\n",
       "<style scoped>\n",
       "    .dataframe tbody tr th:only-of-type {\n",
       "        vertical-align: middle;\n",
       "    }\n",
       "\n",
       "    .dataframe tbody tr th {\n",
       "        vertical-align: top;\n",
       "    }\n",
       "\n",
       "    .dataframe thead th {\n",
       "        text-align: right;\n",
       "    }\n",
       "</style>\n",
       "<table border=\"1\" class=\"dataframe\">\n",
       "  <thead>\n",
       "    <tr style=\"text-align: right;\">\n",
       "      <th></th>\n",
       "      <th>InvoiceNo</th>\n",
       "      <th>StockCode</th>\n",
       "      <th>Description</th>\n",
       "      <th>Quantity</th>\n",
       "      <th>InvoiceDate</th>\n",
       "      <th>UnitPrice</th>\n",
       "      <th>CustomerID</th>\n",
       "      <th>Country</th>\n",
       "    </tr>\n",
       "  </thead>\n",
       "  <tbody>\n",
       "    <tr>\n",
       "      <th>0</th>\n",
       "      <td>536365</td>\n",
       "      <td>85123A</td>\n",
       "      <td>WHITE HANGING HEART T-LIGHT HOLDER</td>\n",
       "      <td>6</td>\n",
       "      <td>12/1/2010 8:26</td>\n",
       "      <td>2.55</td>\n",
       "      <td>17850.0</td>\n",
       "      <td>United Kingdom</td>\n",
       "    </tr>\n",
       "    <tr>\n",
       "      <th>1</th>\n",
       "      <td>536365</td>\n",
       "      <td>71053</td>\n",
       "      <td>WHITE METAL LANTERN</td>\n",
       "      <td>6</td>\n",
       "      <td>12/1/2010 8:26</td>\n",
       "      <td>3.39</td>\n",
       "      <td>17850.0</td>\n",
       "      <td>United Kingdom</td>\n",
       "    </tr>\n",
       "    <tr>\n",
       "      <th>2</th>\n",
       "      <td>536365</td>\n",
       "      <td>84406B</td>\n",
       "      <td>CREAM CUPID HEARTS COAT HANGER</td>\n",
       "      <td>8</td>\n",
       "      <td>12/1/2010 8:26</td>\n",
       "      <td>2.75</td>\n",
       "      <td>17850.0</td>\n",
       "      <td>United Kingdom</td>\n",
       "    </tr>\n",
       "    <tr>\n",
       "      <th>3</th>\n",
       "      <td>536365</td>\n",
       "      <td>84029G</td>\n",
       "      <td>KNITTED UNION FLAG HOT WATER BOTTLE</td>\n",
       "      <td>6</td>\n",
       "      <td>12/1/2010 8:26</td>\n",
       "      <td>3.39</td>\n",
       "      <td>17850.0</td>\n",
       "      <td>United Kingdom</td>\n",
       "    </tr>\n",
       "    <tr>\n",
       "      <th>4</th>\n",
       "      <td>536365</td>\n",
       "      <td>84029E</td>\n",
       "      <td>RED WOOLLY HOTTIE WHITE HEART.</td>\n",
       "      <td>6</td>\n",
       "      <td>12/1/2010 8:26</td>\n",
       "      <td>3.39</td>\n",
       "      <td>17850.0</td>\n",
       "      <td>United Kingdom</td>\n",
       "    </tr>\n",
       "    <tr>\n",
       "      <th>...</th>\n",
       "      <td>...</td>\n",
       "      <td>...</td>\n",
       "      <td>...</td>\n",
       "      <td>...</td>\n",
       "      <td>...</td>\n",
       "      <td>...</td>\n",
       "      <td>...</td>\n",
       "      <td>...</td>\n",
       "    </tr>\n",
       "    <tr>\n",
       "      <th>541904</th>\n",
       "      <td>581587</td>\n",
       "      <td>22613</td>\n",
       "      <td>PACK OF 20 SPACEBOY NAPKINS</td>\n",
       "      <td>12</td>\n",
       "      <td>12/9/2011 12:50</td>\n",
       "      <td>0.85</td>\n",
       "      <td>12680.0</td>\n",
       "      <td>France</td>\n",
       "    </tr>\n",
       "    <tr>\n",
       "      <th>541905</th>\n",
       "      <td>581587</td>\n",
       "      <td>22899</td>\n",
       "      <td>CHILDREN'S APRON DOLLY GIRL</td>\n",
       "      <td>6</td>\n",
       "      <td>12/9/2011 12:50</td>\n",
       "      <td>2.10</td>\n",
       "      <td>12680.0</td>\n",
       "      <td>France</td>\n",
       "    </tr>\n",
       "    <tr>\n",
       "      <th>541906</th>\n",
       "      <td>581587</td>\n",
       "      <td>23254</td>\n",
       "      <td>CHILDRENS CUTLERY DOLLY GIRL</td>\n",
       "      <td>4</td>\n",
       "      <td>12/9/2011 12:50</td>\n",
       "      <td>4.15</td>\n",
       "      <td>12680.0</td>\n",
       "      <td>France</td>\n",
       "    </tr>\n",
       "    <tr>\n",
       "      <th>541907</th>\n",
       "      <td>581587</td>\n",
       "      <td>23255</td>\n",
       "      <td>CHILDRENS CUTLERY CIRCUS PARADE</td>\n",
       "      <td>4</td>\n",
       "      <td>12/9/2011 12:50</td>\n",
       "      <td>4.15</td>\n",
       "      <td>12680.0</td>\n",
       "      <td>France</td>\n",
       "    </tr>\n",
       "    <tr>\n",
       "      <th>541908</th>\n",
       "      <td>581587</td>\n",
       "      <td>22138</td>\n",
       "      <td>BAKING SET 9 PIECE RETROSPOT</td>\n",
       "      <td>3</td>\n",
       "      <td>12/9/2011 12:50</td>\n",
       "      <td>4.95</td>\n",
       "      <td>12680.0</td>\n",
       "      <td>France</td>\n",
       "    </tr>\n",
       "  </tbody>\n",
       "</table>\n",
       "<p>541909 rows × 8 columns</p>\n",
       "</div>"
      ],
      "text/plain": [
       "       InvoiceNo StockCode                          Description  Quantity  \\\n",
       "0         536365    85123A   WHITE HANGING HEART T-LIGHT HOLDER         6   \n",
       "1         536365     71053                  WHITE METAL LANTERN         6   \n",
       "2         536365    84406B       CREAM CUPID HEARTS COAT HANGER         8   \n",
       "3         536365    84029G  KNITTED UNION FLAG HOT WATER BOTTLE         6   \n",
       "4         536365    84029E       RED WOOLLY HOTTIE WHITE HEART.         6   \n",
       "...          ...       ...                                  ...       ...   \n",
       "541904    581587     22613          PACK OF 20 SPACEBOY NAPKINS        12   \n",
       "541905    581587     22899         CHILDREN'S APRON DOLLY GIRL          6   \n",
       "541906    581587     23254        CHILDRENS CUTLERY DOLLY GIRL          4   \n",
       "541907    581587     23255      CHILDRENS CUTLERY CIRCUS PARADE         4   \n",
       "541908    581587     22138        BAKING SET 9 PIECE RETROSPOT          3   \n",
       "\n",
       "            InvoiceDate  UnitPrice  CustomerID         Country  \n",
       "0        12/1/2010 8:26       2.55     17850.0  United Kingdom  \n",
       "1        12/1/2010 8:26       3.39     17850.0  United Kingdom  \n",
       "2        12/1/2010 8:26       2.75     17850.0  United Kingdom  \n",
       "3        12/1/2010 8:26       3.39     17850.0  United Kingdom  \n",
       "4        12/1/2010 8:26       3.39     17850.0  United Kingdom  \n",
       "...                 ...        ...         ...             ...  \n",
       "541904  12/9/2011 12:50       0.85     12680.0          France  \n",
       "541905  12/9/2011 12:50       2.10     12680.0          France  \n",
       "541906  12/9/2011 12:50       4.15     12680.0          France  \n",
       "541907  12/9/2011 12:50       4.15     12680.0          France  \n",
       "541908  12/9/2011 12:50       4.95     12680.0          France  \n",
       "\n",
       "[541909 rows x 8 columns]"
      ]
     },
     "execution_count": 4,
     "metadata": {},
     "output_type": "execute_result"
    }
   ],
   "source": [
    "df = pd.read_csv(\"OnlineRetail.csv\", encoding=\"latin1\")\n",
    "df"
   ]
  },
  {
   "cell_type": "code",
   "execution_count": null,
   "metadata": {},
   "outputs": [
    {
     "name": "stderr",
     "output_type": "stream",
     "text": [
      "C:\\Users\\loalo\\AppData\\Local\\Temp\\ipykernel_34920\\1138653861.py:2: SettingWithCopyWarning: \n",
      "A value is trying to be set on a copy of a slice from a DataFrame.\n",
      "Try using .loc[row_indexer,col_indexer] = value instead\n",
      "\n",
      "See the caveats in the documentation: https://pandas.pydata.org/pandas-docs/stable/user_guide/indexing.html#returning-a-view-versus-a-copy\n",
      "  df[\"Sales\"] = df[\"Quantity\"] * df[\"UnitPrice\"]\n"
     ]
    }
   ],
   "source": [
    "df = df[[\"Country\", \"Quantity\", \"UnitPrice\"]]  \n",
    "df[\"Sales\"] = df[\"Quantity\"] * df[\"UnitPrice\"]"
   ]
  },
  {
   "cell_type": "code",
   "execution_count": 6,
   "metadata": {},
   "outputs": [],
   "source": [
    "country1 = \"United Kingdom\"\n",
    "country2 = \"Germany\"\n",
    "\n",
    "sales_group1 = df[df[\"Country\"] == country1][\"Sales\"]\n",
    "sales_group2 = df[df[\"Country\"] == country2][\"Sales\"]"
   ]
  },
  {
   "cell_type": "code",
   "execution_count": 7,
   "metadata": {},
   "outputs": [],
   "source": [
    "t_stat, p_value = stats.ttest_ind(sales_group1, sales_group2, equal_var=False, nan_policy='omit')\n"
   ]
  },
  {
   "cell_type": "code",
   "execution_count": 8,
   "metadata": {},
   "outputs": [
    {
     "name": "stderr",
     "output_type": "stream",
     "text": [
      "C:\\Users\\loalo\\AppData\\Local\\Temp\\ipykernel_34920\\2045390092.py:2: FutureWarning: \n",
      "\n",
      "Passing `palette` without assigning `hue` is deprecated and will be removed in v0.14.0. Assign the `x` variable to `hue` and set `legend=False` for the same effect.\n",
      "\n",
      "  sns.boxplot(x=df[\"Country\"], y=df[\"Sales\"], data=df[df[\"Country\"].isin([country1, country2])], palette=\"pastel\")\n"
     ]
    },
    {
     "data": {
      "image/png": "[encoded data removed]",
      "text/plain": [
       "<Figure size 800x500 with 1 Axes>"
      ]
     },
     "metadata": {},
     "output_type": "display_data"
    }
   ],
   "source": [
    "plt.figure(figsize=(8, 5))\n",
    "sns.boxplot(x=df[\"Country\"], y=df[\"Sales\"], data=df[df[\"Country\"].isin([country1, country2])], palette=\"pastel\")\n",
    "plt.title(\"Sales Distribution by Country\")\n",
    "plt.xlabel(\"Country\")\n",
    "plt.ylabel(\"Total Sales\")\n",
    "plt.xticks(rotation=45)\n",
    "plt.show()"
   ]
  },
  {
   "cell_type": "code",
   "execution_count": 9,
   "metadata": {},
   "outputs": [
    {
     "name": "stdout",
     "output_type": "stream",
     "text": [
      "T-Statistic: -10.046\n",
      "P-Value: 0.000\n"
     ]
    }
   ],
   "source": [
    "print(f\"T-Statistic: {t_stat:.3f}\")\n",
    "print(f\"P-Value: {p_value:.3f}\")"
   ]
  },
  {
   "cell_type": "code",
   "execution_count": 10,
   "metadata": {},
   "outputs": [
    {
     "name": "stdout",
     "output_type": "stream",
     "text": [
      "Reject H₀: Sales significantly differ between United Kingdom and Germany.\n"
     ]
    }
   ],
   "source": [
    "alpha = 0.05\n",
    "if p_value < alpha:\n",
    "    print(f\"Reject H₀: Sales significantly differ between {country1} and {country2}.\")\n",
    "else:\n",
    "    print(f\"Fail to reject H₀: No significant difference in sales between {country1} and {country2}.\")\n"
   ]
  }
 ],
 "metadata": {
  "kernelspec": {
   "display_name": "base",
   "language": "python",
   "name": "python3"
  },
  "language_info": {
   "codemirror_mode": {
    "name": "ipython",
    "version": 3
   },
   "file_extension": ".py",
   "mimetype": "text/x-python",
   "name": "python",
   "nbconvert_exporter": "python",
   "pygments_lexer": "ipython3",
   "version": "3.12.7"
  }
 },
 "nbformat": 4,
 "nbformat_minor": 2
}
