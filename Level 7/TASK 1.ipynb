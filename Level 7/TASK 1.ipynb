{
 "cells": [
  {
   "cell_type": "code",
   "execution_count": 1,
   "id": "e368ac29-9055-49dd-b32a-f5f1c6904fc8",
   "metadata": {},
   "outputs": [
    {
     "name": "stdout",
     "output_type": "stream",
     "text": [
      "Z-scores: [-1.46385011 -0.87831007 -0.29277002  0.29277002  0.87831007  1.46385011]\n",
      "The z-score for 5 is ~0.29, meaning it’s 0.29 standard deviations above the mean.\n"
     ]
    }
   ],
   "source": [
    "import numpy as np\n",
    "\n",
    "data = np.array([2, 3, 4, 5, 6, 7])\n",
    "mean = np.mean(data)\n",
    "std_dev = np.std(data, ddof=0)\n",
    "\n",
    "z_scores = (data - mean) / std_dev\n",
    "z_score_5 = (5 - mean) / std_dev\n",
    "\n",
    "print(\"Z-scores:\", z_scores)\n",
    "print(f\"The z-score for 5 is ~{z_score_5:.2f}, meaning it’s {z_score_5:.2f} standard deviations above the mean.\")\n"
   ]
  }
 ],
 "metadata": {
  "kernelspec": {
   "display_name": "base",
   "language": "python",
   "name": "python3"
  },
  "language_info": {
   "codemirror_mode": {
    "name": "ipython",
    "version": 3
   },
   "file_extension": ".py",
   "mimetype": "text/x-python",
   "name": "python",
   "nbconvert_exporter": "python",
   "pygments_lexer": "ipython3",
   "version": "3.12.7"
  }
 },
 "nbformat": 4,
 "nbformat_minor": 5
}
