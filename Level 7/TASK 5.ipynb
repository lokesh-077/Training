{
 "cells": [
  {
   "cell_type": "code",
   "execution_count": 12,
   "id": "dcf2a89d-a8d6-48f9-ada6-5724c769ab95",
   "metadata": {},
   "outputs": [
    {
     "data": {
      "text/plain": [
       "(0.335, 0.3333333333333333)"
      ]
     },
     "execution_count": 12,
     "metadata": {},
     "output_type": "execute_result"
    }
   ],
   "source": [
    "import numpy as np\n",
    "np.random.seed(42) \n",
    "rolls = np.random.randint(1, 7, 1000)\n",
    "count_1_or_3 = np.sum((rolls == 1) | (rolls == 3))\n",
    "\n",
    "simulated_probability = count_1_or_3 / 1000\n",
    "theoretical_probability = 1/3\n",
    "simulated_probability, theoretical_probability\n"
   ]
  }
 ],
 "metadata": {
  "kernelspec": {
   "display_name": "base",
   "language": "python",
   "name": "python3"
  },
  "language_info": {
   "codemirror_mode": {
    "name": "ipython",
    "version": 3
   },
   "file_extension": ".py",
   "mimetype": "text/x-python",
   "name": "python",
   "nbconvert_exporter": "python",
   "pygments_lexer": "ipython3",
   "version": "3.12.7"
  }
 },
 "nbformat": 4,
 "nbformat_minor": 5
}
