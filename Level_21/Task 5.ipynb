{
 "cells": [
  {
   "cell_type": "markdown",
   "id": "08ac36be",
   "metadata": {},
   "source": [
    "Neuron Implementation"
   ]
  },
  {
   "cell_type": "code",
   "execution_count": 2,
   "id": "4840a097",
   "metadata": {},
   "outputs": [
    {
     "name": "stdout",
     "output_type": "stream",
     "text": [
      "Epoch 10/100, Loss: 0.8013\n",
      "Epoch 20/100, Loss: 0.7888\n",
      "Epoch 30/100, Loss: 0.7769\n",
      "Epoch 40/100, Loss: 0.7655\n",
      "Epoch 50/100, Loss: 0.7546\n",
      "Epoch 60/100, Loss: 0.7442\n",
      "Epoch 70/100, Loss: 0.7342\n",
      "Epoch 80/100, Loss: 0.7247\n",
      "Epoch 90/100, Loss: 0.7156\n",
      "Epoch 100/100, Loss: 0.7068\n",
      "\n",
      "Test Accuracy: 67.13%\n"
     ]
    }
   ],
   "source": [
    "import pandas as pd\n",
    "import numpy as np\n",
    "import matplotlib.pyplot as plt\n",
    "from sklearn.model_selection import train_test_split\n",
    "from sklearn.preprocessing import StandardScaler\n",
    "\n",
    "df = pd.read_csv('titanic (2).csv')  \n",
    "\n",
    "features = ['Pclass', 'Sex', 'Age', 'Fare']\n",
    "df = df[features + ['Survived']].dropna()\n",
    "\n",
    "df['Sex'] = df['Sex'].map({'male': 0, 'female': 1})\n",
    "\n",
    "X = df[features].values\n",
    "y = df['Survived'].values\n",
    "\n",
    "scaler = StandardScaler()\n",
    "X_scaled = scaler.fit_transform(X)\n",
    "\n",
    "X_train, X_test, y_train, y_test = train_test_split(X_scaled, y, test_size=0.2, random_state=42)\n",
    "\n",
    "def sigmoid(z):\n",
    "    return 1 / (1 + np.exp(-z))\n",
    "\n",
    "def compute_loss(y_true, y_pred):\n",
    "    epsilon = 1e-15  \n",
    "    y_pred = np.clip(y_pred, epsilon, 1 - epsilon)\n",
    "    return -np.mean(y_true * np.log(y_pred) + (1 - y_true) * np.log(1 - y_pred))\n",
    "\n",
    "np.random.seed(42)\n",
    "weights = np.random.randn(X_train.shape[1])\n",
    "bias = 0.0\n",
    "learning_rate = 0.01\n",
    "epochs = 100\n",
    "\n",
    "for epoch in range(epochs):\n",
    "    \n",
    "    z = np.dot(X_train, weights) + bias\n",
    "    y_pred = sigmoid(z)\n",
    "    \n",
    "    loss = compute_loss(y_train, y_pred)\n",
    "    \n",
    "    dz = y_pred - y_train\n",
    "    dw = np.dot(X_train.T, dz) / X_train.shape[0]\n",
    "    db = np.mean(dz)\n",
    "    \n",
    "    weights -= learning_rate * dw\n",
    "    bias -= learning_rate * db\n",
    "    \n",
    "    if (epoch + 1) % 10 == 0:\n",
    "        print(f\"Epoch {epoch+1}/{epochs}, Loss: {loss:.4f}\")\n",
    "\n",
    "z_test = np.dot(X_test, weights) + bias\n",
    "y_pred_test = sigmoid(z_test)\n",
    "y_pred_labels = (y_pred_test >= 0.5).astype(int)\n",
    "\n",
    "accuracy = np.mean(y_pred_labels == y_test)\n",
    "print(f\"\\nTest Accuracy: {accuracy * 100:.2f}%\")\n"
   ]
  }
 ],
 "metadata": {
  "kernelspec": {
   "display_name": "base",
   "language": "python",
   "name": "python3"
  },
  "language_info": {
   "codemirror_mode": {
    "name": "ipython",
    "version": 3
   },
   "file_extension": ".py",
   "mimetype": "text/x-python",
   "name": "python",
   "nbconvert_exporter": "python",
   "pygments_lexer": "ipython3",
   "version": "3.12.7"
  }
 },
 "nbformat": 4,
 "nbformat_minor": 5
}
