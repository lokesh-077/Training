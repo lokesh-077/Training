{
 "cells": [
  {
   "cell_type": "markdown",
   "metadata": {},
   "source": [
    "File Encryptor"
   ]
  },
  {
   "cell_type": "code",
   "execution_count": 1,
   "metadata": {},
   "outputs": [
    {
     "name": "stdout",
     "output_type": "stream",
     "text": [
      "SHA-256 Hash: 373a23512f9531ad49ec6ad43ecdda58df01e59d9ec5812d601fd05cc53345d3\n"
     ]
    }
   ],
   "source": [
    "import hashlib\n",
    "\n",
    "message = input(\"Enter a short text message: \")\n",
    "\n",
    "with open(\"message.txt\", \"w\") as file:\n",
    "    file.write(message)\n",
    "\n",
    "\n",
    "with open(\"message.txt\", \"r\") as file:\n",
    "    content = file.read()\n",
    "\n",
    "hash_object = hashlib.sha256(content.encode())  # Convert text to bytes and hash\n",
    "hash_hex = hash_object.hexdigest()  # Get the hexadecimal representation of the hash\n",
    "\n",
    "with open(\"encrypted.txt\", \"w\") as file:\n",
    "    file.write(hash_hex)\n",
    "\n",
    "print(\"SHA-256 Hash:\", hash_hex)\n"
   ]
  }
 ],
 "metadata": {
  "kernelspec": {
   "display_name": "base",
   "language": "python",
   "name": "python3"
  },
  "language_info": {
   "codemirror_mode": {
    "name": "ipython",
    "version": 3
   },
   "file_extension": ".py",
   "mimetype": "text/x-python",
   "name": "python",
   "nbconvert_exporter": "python",
   "pygments_lexer": "ipython3",
   "version": "3.12.7"
  }
 },
 "nbformat": 4,
 "nbformat_minor": 2
}
