{
 "cells": [
  {
   "cell_type": "code",
   "execution_count": 1,
   "id": "a0e2a7df-9097-4fb2-ba79-a95b72e026e9",
   "metadata": {},
   "outputs": [
    {
     "name": "stdout",
     "output_type": "stream",
     "text": [
      "Z-score: 12.67\n",
      "P-value: 0.0000\n",
      "Reject H₀; medication affects IQ, likely increasing it (mean = 140 > 100).\n"
     ]
    }
   ],
   "source": [
    "import numpy as np\n",
    "import statsmodels.stats.weightstats as st\n",
    "data = np.random.normal(140, 15, 30)\n",
    "z_score,p_value=st.ztest(data,value=100)\n",
    "alpha = 0.05\n",
    "if p_value < alpha:\n",
    "    result = \"Reject H₀; medication affects IQ, likely increasing it (mean = 140 > 100).\"\n",
    "else:\n",
    "    result = \"Fail to reject H₀; no evidence that medication affects IQ.\"\n",
    "print(f\"Z-score: {z_score:.2f}\")\n",
    "print(f\"P-value: {p_value:.4f}\")\n",
    "print(result)"
   ]
  }
 ],
 "metadata": {
  "kernelspec": {
   "display_name": "base",
   "language": "python",
   "name": "python3"
  },
  "language_info": {
   "codemirror_mode": {
    "name": "ipython",
    "version": 3
   },
   "file_extension": ".py",
   "mimetype": "text/x-python",
   "name": "python",
   "nbconvert_exporter": "python",
   "pygments_lexer": "ipython3",
   "version": "3.12.7"
  }
 },
 "nbformat": 4,
 "nbformat_minor": 5
}
