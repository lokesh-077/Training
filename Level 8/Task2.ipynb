{
 "cells": [
  {
   "cell_type": "code",
   "execution_count": 1,
   "id": "583f0966-96f7-49e2-a713-ea49d747d9af",
   "metadata": {},
   "outputs": [
    {
     "name": "stdout",
     "output_type": "stream",
     "text": [
      "t_score:10.66\n",
      "P-value: 0.0000\n",
      "Reject H₀; medication increases IQ (mean = 140 > 100).\n"
     ]
    }
   ],
   "source": [
    "import numpy as np\n",
    "import scipy.stats as stats\n",
    "data=np.random.normal(140,20,30)\n",
    "t_score,p_value=stats.ttest_1samp(data,popmean=100)\n",
    "alpha=0.05\n",
    "if p_value<alpha:\n",
    "    result=\"Reject H₀; medication increases IQ (mean = 140 > 100).\"\n",
    "else:\n",
    "    result=\"fail to reject Ho;no evidence that medication affects IQ.\"\n",
    "print(f\"t_score:{t_score:.2f}\")\n",
    "print(f\"P-value: {p_value:.4f}\")\n",
    "print(result)"
   ]
  }
 ],
 "metadata": {
  "kernelspec": {
   "display_name": "base",
   "language": "python",
   "name": "python3"
  },
  "language_info": {
   "codemirror_mode": {
    "name": "ipython",
    "version": 3
   },
   "file_extension": ".py",
   "mimetype": "text/x-python",
   "name": "python",
   "nbconvert_exporter": "python",
   "pygments_lexer": "ipython3",
   "version": "3.12.7"
  }
 },
 "nbformat": 4,
 "nbformat_minor": 5
}
