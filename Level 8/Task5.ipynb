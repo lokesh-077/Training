{
 "cells": [
  {
   "cell_type": "code",
   "execution_count": 1,
   "id": "21783e7f-61e5-46b9-ae5f-b114366dd3c2",
   "metadata": {},
   "outputs": [
    {
     "name": "stdout",
     "output_type": "stream",
     "text": [
      "Pearson Correlation: 0.83\n",
      "Spearman Correlation:A 0.80\n",
      "Both show positive correlation; Pearson higher due to near-linear relationship.\n"
     ]
    }
   ],
   "source": [
    "import scipy.stats as stats\n",
    "height=[160, 170, 180, 175]\n",
    "weight=[60, 70, 75, 65]\n",
    "pearson,p_value=stats.pearsonr(height,weight)\n",
    "spearman,p_value=stats.spearmanr(height,weight)\n",
    "print(f\"Pearson Correlation: {pearson:.2f}\")\n",
    "print(f\"Spearman Correlation:A {spearman:.2f}\")\n",
    "print(\"Both show positive correlation; Pearson higher due to near-linear relationship.\")"
   ]
  },
  {
   "cell_type": "code",
   "execution_count": null,
   "id": "2f7254af-ad1f-4caa-bb98-14c7d1fdff7e",
   "metadata": {},
   "outputs": [],
   "source": []
  }
 ],
 "metadata": {
  "kernelspec": {
   "display_name": "base",
   "language": "python",
   "name": "python3"
  },
  "language_info": {
   "codemirror_mode": {
    "name": "ipython",
    "version": 3
   },
   "file_extension": ".py",
   "mimetype": "text/x-python",
   "name": "python",
   "nbconvert_exporter": "python",
   "pygments_lexer": "ipython3",
   "version": "3.12.7"
  }
 },
 "nbformat": 4,
 "nbformat_minor": 5
}
