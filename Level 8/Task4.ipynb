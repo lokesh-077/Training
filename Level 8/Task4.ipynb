{
 "cells": [
  {
   "cell_type": "code",
   "execution_count": 1,
   "id": "65334e1f-9091-4dab-8474-81430b77a3a4",
   "metadata": {},
   "outputs": [
    {
     "name": "stdout",
     "output_type": "stream",
     "text": [
      "Cov ≈ 45.83,Positive covariance; as height increases, weight tends to increase.\n"
     ]
    }
   ],
   "source": [
    "import numpy as np\n",
    "height=np.array([160,170,180,175])\n",
    "weight=np.array([60,70,75,65])\n",
    "compute_covariance=np.cov(height,weight)[0,1]\n",
    "print(f\"Cov ≈ {compute_covariance:.2f},Positive covariance; as height increases, weight tends to increase.\")"
   ]
  },
  {
   "cell_type": "code",
   "execution_count": null,
   "id": "db5f5ee1-503d-4494-8e47-bc91cf3dc9c7",
   "metadata": {},
   "outputs": [],
   "source": []
  }
 ],
 "metadata": {
  "kernelspec": {
   "display_name": "base",
   "language": "python",
   "name": "python3"
  },
  "language_info": {
   "codemirror_mode": {
    "name": "ipython",
    "version": 3
   },
   "file_extension": ".py",
   "mimetype": "text/x-python",
   "name": "python",
   "nbconvert_exporter": "python",
   "pygments_lexer": "ipython3",
   "version": "3.12.7"
  }
 },
 "nbformat": 4,
 "nbformat_minor": 5
}
