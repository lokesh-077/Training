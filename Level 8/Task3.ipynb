{
 "cells": [
  {
   "cell_type": "code",
   "execution_count": 1,
   "id": "54d1da31-4316-417b-988a-bd619986621f",
   "metadata": {},
   "outputs": [
    {
     "name": "stdout",
     "output_type": "stream",
     "text": [
      "Chi_Square ≈ 232.49\n",
      "Reject Ho;age distribution changed.\n"
     ]
    }
   ],
   "source": [
    "import scipy.stats as stats\n",
    "observed=[121,288,91]\n",
    "expected=[100,150,250]\n",
    "scaled_expected = [500 * 0.2, 500 * 0.3, 500 * 0.5]\n",
    "chi_square,p_value=stats.chisquare(observed,expected)\n",
    "if p_value<0.05:\n",
    "    result=\"Reject Ho;age distribution changed.\"\n",
    "else:\n",
    "    result=\"fail to reject Ho.\"\n",
    "print(f\"Chi_Square ≈ {chi_square:.2f}\")\n",
    "print(result)"
   ]
  }
 ],
 "metadata": {
  "kernelspec": {
   "display_name": "base",
   "language": "python",
   "name": "python3"
  },
  "language_info": {
   "codemirror_mode": {
    "name": "ipython",
    "version": 3
   },
   "file_extension": ".py",
   "mimetype": "text/x-python",
   "name": "python",
   "nbconvert_exporter": "python",
   "pygments_lexer": "ipython3",
   "version": "3.12.7"
  }
 },
 "nbformat": 4,
 "nbformat_minor": 5
}
