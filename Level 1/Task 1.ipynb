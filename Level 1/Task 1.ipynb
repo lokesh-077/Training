{
 "cells": [
  {
   "cell_type": "markdown",
   "metadata": {},
   "source": [
    "Hello Python"
   ]
  },
  {
   "cell_type": "code",
   "execution_count": 5,
   "metadata": {},
   "outputs": [
    {
     "name": "stdout",
     "output_type": "stream",
     "text": [
      "Hello Python!\n",
      "Arithmatic Operation for a + b = 13\n"
     ]
    }
   ],
   "source": [
    "print(\"Hello Python!\")\n",
    "a=int(input(\"Enter the number 1 : \"))\n",
    "b=int(input(\"Enter the number 2 : \"))\n",
    "\n",
    "print(f\"Arithmatic Operation for a + b = {a+b}\")"
   ]
  }
 ],
 "metadata": {
  "kernelspec": {
   "display_name": "Python 3",
   "language": "python",
   "name": "python3"
  },
  "language_info": {
   "codemirror_mode": {
    "name": "ipython",
    "version": 3
   },
   "file_extension": ".py",
   "mimetype": "text/x-python",
   "name": "python",
   "nbconvert_exporter": "python",
   "pygments_lexer": "ipython3",
   "version": "3.10.6"
  }
 },
 "nbformat": 4,
 "nbformat_minor": 2
}
