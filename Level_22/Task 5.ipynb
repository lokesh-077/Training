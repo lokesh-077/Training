{
 "cells": [
  {
   "cell_type": "code",
   "execution_count": 1,
   "id": "5ee9ab3d",
   "metadata": {},
   "outputs": [],
   "source": [
    "import tensorflow as tf\n",
    "from tensorflow.keras import Sequential\n",
    "from tensorflow.keras.layers import Dense, Flatten\n",
    "from tensorflow.keras.datasets import mnist\n",
    "import time\n",
    "import numpy as np\n",
    "import pandas as pd"
   ]
  },
  {
   "cell_type": "code",
   "execution_count": 2,
   "id": "493d9244",
   "metadata": {},
   "outputs": [],
   "source": [
    "(x_train, y_train), (x_test, y_test) = mnist.load_data()\n",
    "\n",
    "x_train = x_train.astype('float32') / 255.0\n",
    "x_test = x_test.astype('float32') / 255.0\n",
    "\n",
    "x_train = x_train.reshape(-1, 784)\n",
    "x_test = x_test.reshape(-1, 784)"
   ]
  },
  {
   "cell_type": "code",
   "execution_count": 3,
   "id": "cea456d5",
   "metadata": {},
   "outputs": [],
   "source": [
    "y_train = tf.keras.utils.to_categorical(y_train, 10)\n",
    "y_test = tf.keras.utils.to_categorical(y_test, 10)"
   ]
  },
  {
   "cell_type": "code",
   "execution_count": 4,
   "id": "76cb5bba",
   "metadata": {},
   "outputs": [],
   "source": [
    "def create_model():\n",
    "    model = Sequential([\n",
    "        Dense(256, activation='relu', input_shape=(784,)),  \n",
    "        Dense(256, activation='relu'),                      \n",
    "        Dense(10, activation='softmax')                    \n",
    "    ])\n",
    "    model.compile(optimizer='adam',\n",
    "                  loss='categorical_crossentropy',\n",
    "                  metrics=['accuracy'])\n",
    "    return model\n"
   ]
  },
  {
   "cell_type": "code",
   "execution_count": 5,
   "id": "d474ed73",
   "metadata": {},
   "outputs": [],
   "source": [
    "devices = ['/CPU:0', '/GPU:0'] if tf.config.list_physical_devices('GPU') else ['/CPU:0']\n",
    "results = []"
   ]
  },
  {
   "cell_type": "code",
   "execution_count": 6,
   "id": "914c33b6",
   "metadata": {},
   "outputs": [
    {
     "name": "stdout",
     "output_type": "stream",
     "text": [
      "Training on /CPU:0\n"
     ]
    },
    {
     "name": "stderr",
     "output_type": "stream",
     "text": [
      "c:\\Users\\loalo\\anaconda3\\Lib\\site-packages\\keras\\src\\layers\\core\\dense.py:87: UserWarning: Do not pass an `input_shape`/`input_dim` argument to a layer. When using Sequential models, prefer using an `Input(shape)` object as the first layer in the model instead.\n",
      "  super().__init__(activity_regularizer=activity_regularizer, **kwargs)\n"
     ]
    },
    {
     "name": "stdout",
     "output_type": "stream",
     "text": [
      "Epoch 1/10\n",
      "\u001b[1m469/469\u001b[0m \u001b[32m━━━━━━━━━━━━━━━━━━━━\u001b[0m\u001b[37m\u001b[0m \u001b[1m6s\u001b[0m 9ms/step - accuracy: 0.8669 - loss: 0.4771 - val_accuracy: 0.9588 - val_loss: 0.1270\n",
      "Epoch 2/10\n",
      "\u001b[1m469/469\u001b[0m \u001b[32m━━━━━━━━━━━━━━━━━━━━\u001b[0m\u001b[37m\u001b[0m \u001b[1m4s\u001b[0m 8ms/step - accuracy: 0.9698 - loss: 0.1024 - val_accuracy: 0.9712 - val_loss: 0.0923\n",
      "Epoch 3/10\n",
      "\u001b[1m469/469\u001b[0m \u001b[32m━━━━━━━━━━━━━━━━━━━━\u001b[0m\u001b[37m\u001b[0m \u001b[1m4s\u001b[0m 8ms/step - accuracy: 0.9813 - loss: 0.0625 - val_accuracy: 0.9724 - val_loss: 0.0860\n",
      "Epoch 4/10\n",
      "\u001b[1m469/469\u001b[0m \u001b[32m━━━━━━━━━━━━━━━━━━━━\u001b[0m\u001b[37m\u001b[0m \u001b[1m4s\u001b[0m 8ms/step - accuracy: 0.9853 - loss: 0.0446 - val_accuracy: 0.9790 - val_loss: 0.0674\n",
      "Epoch 5/10\n",
      "\u001b[1m469/469\u001b[0m \u001b[32m━━━━━━━━━━━━━━━━━━━━\u001b[0m\u001b[37m\u001b[0m \u001b[1m4s\u001b[0m 8ms/step - accuracy: 0.9902 - loss: 0.0318 - val_accuracy: 0.9798 - val_loss: 0.0681\n",
      "Epoch 6/10\n",
      "\u001b[1m469/469\u001b[0m \u001b[32m━━━━━━━━━━━━━━━━━━━━\u001b[0m\u001b[37m\u001b[0m \u001b[1m4s\u001b[0m 8ms/step - accuracy: 0.9923 - loss: 0.0240 - val_accuracy: 0.9799 - val_loss: 0.0689\n",
      "Epoch 7/10\n",
      "\u001b[1m469/469\u001b[0m \u001b[32m━━━━━━━━━━━━━━━━━━━━\u001b[0m\u001b[37m\u001b[0m \u001b[1m3s\u001b[0m 7ms/step - accuracy: 0.9951 - loss: 0.0174 - val_accuracy: 0.9780 - val_loss: 0.0781\n",
      "Epoch 8/10\n",
      "\u001b[1m469/469\u001b[0m \u001b[32m━━━━━━━━━━━━━━━━━━━━\u001b[0m\u001b[37m\u001b[0m \u001b[1m4s\u001b[0m 8ms/step - accuracy: 0.9950 - loss: 0.0151 - val_accuracy: 0.9797 - val_loss: 0.0762\n",
      "Epoch 9/10\n",
      "\u001b[1m469/469\u001b[0m \u001b[32m━━━━━━━━━━━━━━━━━━━━\u001b[0m\u001b[37m\u001b[0m \u001b[1m4s\u001b[0m 8ms/step - accuracy: 0.9940 - loss: 0.0185 - val_accuracy: 0.9778 - val_loss: 0.0814\n",
      "Epoch 10/10\n",
      "\u001b[1m469/469\u001b[0m \u001b[32m━━━━━━━━━━━━━━━━━━━━\u001b[0m\u001b[37m\u001b[0m \u001b[1m4s\u001b[0m 8ms/step - accuracy: 0.9956 - loss: 0.0124 - val_accuracy: 0.9828 - val_loss: 0.0672\n"
     ]
    }
   ],
   "source": [
    "\n",
    "for device in devices:\n",
    "    print(f\"Training on {device}\")\n",
    "    with tf.device(device):\n",
    "        model = create_model()\n",
    "        \n",
    "        start_time = time.time()\n",
    "        history = model.fit(x_train, y_train,\n",
    "                            epochs=10,\n",
    "                            batch_size=128,\n",
    "                            validation_data=(x_test, y_test),\n",
    "                            verbose=1)\n",
    "        end_time = time.time()\n",
    "        training_time = end_time - start_time\n",
    "        \n",
    "        test_loss, test_accuracy = model.evaluate(x_test, y_test, verbose=0)\n",
    "        results.append({\n",
    "            'Device': device,\n",
    "            'Training Time (s)': training_time,\n",
    "            'Test Accuracy (%)': test_accuracy * 100\n",
    "        })\n"
   ]
  },
  {
   "cell_type": "code",
   "execution_count": 7,
   "id": "fd7ed0b5",
   "metadata": {},
   "outputs": [
    {
     "name": "stdout",
     "output_type": "stream",
     "text": [
      "Benchmark Results:\n",
      "   Device  Training Time (s)  Test Accuracy (%)\n",
      "0  /CPU:0          38.904842          98.280001\n"
     ]
    }
   ],
   "source": [
    "        results_table = pd.DataFrame(results)\n",
    "print(\"Benchmark Results:\")\n",
    "print(results_table)"
   ]
  },
  {
   "cell_type": "code",
   "execution_count": 8,
   "id": "1e3d9922",
   "metadata": {},
   "outputs": [
    {
     "data": {
      "text/plain": [
       "'\\nNote on GPU Benefits:\\nGPUs are designed to handle parallel computations efficiently, making them ideal for deep learning tasks.\\nIn this benchmark, the GPU significantly reduced training time compared to the CPU, especially for larger models\\nand datasets. The test accuracy remains consistent across devices since the same model and data are used.\\nThe primary benefit of using a GPU is faster training, enabling experimentation with more complex models and larger datasets.\\n'"
      ]
     },
     "execution_count": 8,
     "metadata": {},
     "output_type": "execute_result"
    }
   ],
   "source": [
    "\"\"\"\n",
    "Note on GPU Benefits:\n",
    "GPUs are designed to handle parallel computations efficiently, making them ideal for deep learning tasks.\n",
    "In this benchmark, the GPU significantly reduced training time compared to the CPU, especially for larger models\n",
    "and datasets. The test accuracy remains consistent across devices since the same model and data are used.\n",
    "The primary benefit of using a GPU is faster training, enabling experimentation with more complex models and larger datasets.\n",
    "\"\"\""
   ]
  }
 ],
 "metadata": {
  "kernelspec": {
   "display_name": "base",
   "language": "python",
   "name": "python3"
  },
  "language_info": {
   "codemirror_mode": {
    "name": "ipython",
    "version": 3
   },
   "file_extension": ".py",
   "mimetype": "text/x-python",
   "name": "python",
   "nbconvert_exporter": "python",
   "pygments_lexer": "ipython3",
   "version": "3.12.7"
  }
 },
 "nbformat": 4,
 "nbformat_minor": 5
}
