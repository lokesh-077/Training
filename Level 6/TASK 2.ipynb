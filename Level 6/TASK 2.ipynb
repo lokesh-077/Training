{
 "cells": [
  {
   "cell_type": "code",
   "execution_count": 2,
   "id": "67a84600-4905-40eb-8ff0-32968ee8d3b3",
   "metadata": {},
   "outputs": [
    {
     "name": "stdout",
     "output_type": "stream",
     "text": [
      "Population: All families in the city\n",
      "Sample: 100 surveyed households\n"
     ]
    }
   ],
   "source": [
    "population = \"All families in the city\"\n",
    "sample_size = 100 \n",
    "\n",
    "print(f\"Population: {population}\")\n",
    "print(f\"Sample: {sample_size} surveyed households\")\n"
   ]
  },
  {
   "cell_type": "code",
   "execution_count": null,
   "id": "564a732e-8d5e-43d0-9adf-315f1a92f6f8",
   "metadata": {},
   "outputs": [],
   "source": []
  }
 ],
 "metadata": {
  "kernelspec": {
   "display_name": "Python 3",
   "language": "python",
   "name": "python3"
  },
  "language_info": {
   "codemirror_mode": {
    "name": "ipython",
    "version": 3
   },
   "file_extension": ".py",
   "mimetype": "text/x-python",
   "name": "python",
   "nbconvert_exporter": "python",
   "pygments_lexer": "ipython3",
   "version": "3.10.6"
  }
 },
 "nbformat": 4,
 "nbformat_minor": 5
}
