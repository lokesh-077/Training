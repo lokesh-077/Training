{
 "cells": [
  {
   "cell_type": "code",
   "execution_count": 1,
   "id": "9717a3d1-4391-45e1-9afa-56055a605e15",
   "metadata": {},
   "outputs": [
    {
     "name": "stdout",
     "output_type": "stream",
     "text": [
      "Z-score for x = 60: 1.0\n",
      "Z-score for x = 40: -1.0\n"
     ]
    }
   ],
   "source": [
    "import numpy as np\n",
    "\n",
    "mean = 50\n",
    "std_dev = 10\n",
    "\n",
    "x_values = [60, 40]\n",
    "def calculate_z_score(x, mean, std_dev):\n",
    "    return (x - mean) / std_dev\n",
    "    \n",
    "z_scores = [calculate_z_score(x, mean, std_dev) for x in x_values]\n",
    "for x, z in zip(x_values, z_scores):\n",
    "    print(f\"Z-score for x = {x}: {z}\")"
   ]
  },
  {
   "cell_type": "code",
   "execution_count": 2,
   "id": "4ac5bb03-e003-45bb-b5d1-979d8dbe316f",
   "metadata": {},
   "outputs": [
    {
     "name": "stdout",
     "output_type": "stream",
     "text": [
      "\n",
      "Interpretation:\n",
      "A Z-score of 1 for x = 60 means it is 1 standard deviation above the mean.\n",
      "A Z-score of -1 for x = 40 means it is 1 standard deviation below the mean.\n"
     ]
    }
   ],
   "source": [
    "print(\"\\nInterpretation:\")\n",
    "print(\"A Z-score of 1 for x = 60 means it is 1 standard deviation above the mean.\")\n",
    "print(\"A Z-score of -1 for x = 40 means it is 1 standard deviation below the mean.\")"
   ]
  },
  {
   "cell_type": "code",
   "execution_count": null,
   "id": "14d1af6d-1ee6-46fe-b21d-c3b9dcee52c9",
   "metadata": {},
   "outputs": [],
   "source": []
  }
 ],
 "metadata": {
  "kernelspec": {
   "display_name": "Python 3",
   "language": "python",
   "name": "python3"
  },
  "language_info": {
   "codemirror_mode": {
    "name": "ipython",
    "version": 3
   },
   "file_extension": ".py",
   "mimetype": "text/x-python",
   "name": "python",
   "nbconvert_exporter": "python",
   "pygments_lexer": "ipython3",
   "version": "3.10.6"
  }
 },
 "nbformat": 4,
 "nbformat_minor": 5
}
