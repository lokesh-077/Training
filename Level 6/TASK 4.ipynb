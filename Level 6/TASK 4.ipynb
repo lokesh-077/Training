{
 "cells": [
  {
   "cell_type": "code",
   "execution_count": 1,
   "id": "ac42aba0-b2bd-4a0c-bf7b-839810f51554",
   "metadata": {},
   "outputs": [
    {
     "name": "stdout",
     "output_type": "stream",
     "text": [
      "Number of pets: Quantitative (Discrete)\n",
      "Blood type: Qualitative (Categorical)\n",
      "Weight in kg: Quantitative (Continuous)\n",
      "Satisfaction level: Qualitative (Ordinal)\n"
     ]
    }
   ],
   "source": [
    "variables = {\n",
    "    \"Number of pets\": \"Quantitative (Discrete)\",\n",
    "    \"Blood type\": \"Qualitative (Categorical)\",\n",
    "    \"Weight in kg\": \"Quantitative (Continuous)\",\n",
    "    \"Satisfaction level\": \"Qualitative (Ordinal)\"\n",
    "}\n",
    "\n",
    "for var, var_type in variables.items():\n",
    "    print(f\"{var}: {var_type}\")\n"
   ]
  },
  {
   "cell_type": "code",
   "execution_count": null,
   "id": "d0c48134-2ef7-4073-87b7-ed829bb5bd7f",
   "metadata": {},
   "outputs": [],
   "source": []
  }
 ],
 "metadata": {
  "kernelspec": {
   "display_name": "Python 3",
   "language": "python",
   "name": "python3"
  },
  "language_info": {
   "codemirror_mode": {
    "name": "ipython",
    "version": 3
   },
   "file_extension": ".py",
   "mimetype": "text/x-python",
   "name": "python",
   "nbconvert_exporter": "python",
   "pygments_lexer": "ipython3",
   "version": "3.10.6"
  }
 },
 "nbformat": 4,
 "nbformat_minor": 5
}
