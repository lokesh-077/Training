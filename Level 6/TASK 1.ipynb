{
 "cells": [
  {
   "cell_type": "code",
   "execution_count": 1,
   "id": "2a89cb71-c91b-4258-903e-1694360afa6f",
   "metadata": {},
   "outputs": [
    {
     "name": "stdout",
     "output_type": "stream",
     "text": [
      "Requirement already satisfied: scipy in c:\\users\\loalo\\appdata\\local\\programs\\python\\python310\\lib\\site-packages (1.15.2)\n",
      "Requirement already satisfied: numpy<2.5,>=1.23.5 in c:\\users\\loalo\\appdata\\local\\programs\\python\\python310\\lib\\site-packages (from scipy) (2.0.2)\n"
     ]
    }
   ],
   "source": [
    "!pip install scipy"
   ]
  },
  {
   "cell_type": "code",
   "execution_count": 7,
   "id": "73ffaeb1-394f-4fe6-a364-6404ec5fa3e0",
   "metadata": {},
   "outputs": [
    {
     "name": "stdout",
     "output_type": "stream",
     "text": [
      "Descriptive Statistics:\n",
      "Mean Test Score: 85.6\n",
      "Median Test Score: 86.5\n",
      "Standard Deviation: 6.415259585983685\n",
      "\n",
      "Inferential Statistics:\n",
      "T-Statistic: 1.775\n",
      "P-Value: 0.110\n",
      "We fail to reject the null hypothesis: The class test scores are not significantly different from 82.\n"
     ]
    }
   ],
   "source": [
    "import numpy as np\n",
    "import scipy.stats as stats\n",
    "\n",
    "test_scores = [80, 85, 90, 75, 95, 88, 92, 78, 84, 89]\n",
    "\n",
    "mean_score = np.mean(test_scores)  \n",
    "median_score = np.median(test_scores) \n",
    "std_dev = np.std(test_scores, ddof=1)  \n",
    "\n",
    "print(f\"Descriptive Statistics:\")\n",
    "print(f\"Mean Test Score: {mean_score}\")\n",
    "print(f\"Median Test Score: {median_score}\")\n",
    "print(f\"Standard Deviation: {std_dev}\")\n",
    "\n",
    "population_mean = 82\n",
    "t_stat, p_value = stats.ttest_1samp(test_scores, population_mean)\n",
    "\n",
    "print(\"\\nInferential Statistics:\")\n",
    "print(f\"T-Statistic: {t_stat:.3f}\")\n",
    "print(f\"P-Value: {p_value:.3f}\")\n",
    "\n",
    "alpha = 0.05\n",
    "if p_value < alpha:\n",
    "    print(\"We reject the null hypothesis: The class test scores are significantly different from 82.\")\n",
    "else:\n",
    "    print(\"We fail to reject the null hypothesis: The class test scores are not significantly different from 82.\")\n"
   ]
  },
  {
   "cell_type": "code",
   "execution_count": null,
   "id": "00baf83d-bc21-474e-961c-ea4dcffad1a7",
   "metadata": {},
   "outputs": [],
   "source": []
  }
 ],
 "metadata": {
  "kernelspec": {
   "display_name": "Python 3",
   "language": "python",
   "name": "python3"
  },
  "language_info": {
   "codemirror_mode": {
    "name": "ipython",
    "version": 3
   },
   "file_extension": ".py",
   "mimetype": "text/x-python",
   "name": "python",
   "nbconvert_exporter": "python",
   "pygments_lexer": "ipython3",
   "version": "3.10.6"
  }
 },
 "nbformat": 4,
 "nbformat_minor": 5
}
