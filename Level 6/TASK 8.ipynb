{
 "cells": [
  {
   "cell_type": "code",
   "execution_count": 1,
   "id": "82f3bb75-e765-45e1-b4c0-517082386317",
   "metadata": {},
   "outputs": [
    {
     "name": "stdout",
     "output_type": "stream",
     "text": [
      "Percentage of data between 85 and 115: 68.27%\n",
      "\n",
      "Interpretation:\n",
      "Approximately 68% of the data lies between 85 and 115, following the Empirical Rule (68-95-99.7 Rule).\n"
     ]
    }
   ],
   "source": [
    "import scipy.stats as stats\n",
    "\n",
    "mean = 100\n",
    "std_dev = 15\n",
    "\n",
    "lower_bound = 85\n",
    "upper_bound = 115\n",
    "\n",
    "p1 = stats.norm.cdf(lower_bound, mean, std_dev) \n",
    "p2 = stats.norm.cdf(upper_bound, mean, std_dev)  \n",
    "percentage = (p2 - p1) * 100\n",
    "\n",
    "print(f\"Percentage of data between 85 and 115: {percentage:.2f}%\")\n",
    "print(\"\\nInterpretation:\")\n",
    "print(\"Approximately 68% of the data lies between 85 and 115, following the Empirical Rule (68-95-99.7 Rule).\")\n"
   ]
  },
  {
   "cell_type": "code",
   "execution_count": null,
   "id": "8fc31a00-d245-4222-869f-ceab2762816e",
   "metadata": {},
   "outputs": [],
   "source": []
  }
 ],
 "metadata": {
  "kernelspec": {
   "display_name": "Python 3",
   "language": "python",
   "name": "python3"
  },
  "language_info": {
   "codemirror_mode": {
    "name": "ipython",
    "version": 3
   },
   "file_extension": ".py",
   "mimetype": "text/x-python",
   "name": "python",
   "nbconvert_exporter": "python",
   "pygments_lexer": "ipython3",
   "version": "3.10.6"
  }
 },
 "nbformat": 4,
 "nbformat_minor": 5
}
