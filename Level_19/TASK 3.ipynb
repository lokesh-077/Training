{
  "cells": [
    {
      "cell_type": "code",
      "execution_count": 1,
      "metadata": {
        "colab": {
          "base_uri": "https://localhost:8080/"
        },
        "id": "5vypnscaeOry",
        "outputId": "53c39246-7d23-4f7e-8a40-b6eb9a08efd7"
      },
      "outputs": [
        {
          "name": "stdout",
          "output_type": "stream",
          "text": [
            "MSE Score: 2868.549702835578\n",
            "R2 Score: 0.5279193863361497\n"
          ]
        }
      ],
      "source": [
        "from abc import ABC, abstractmethod\n",
        "from sklearn.linear_model import LinearRegression\n",
        "from sklearn.metrics import mean_squared_error, r2_score\n",
        "from sklearn.model_selection import train_test_split\n",
        "from sklearn.datasets import load_diabetes\n",
        "\n",
        "data = load_diabetes()\n",
        "X = data.data\n",
        "y = data.target\n",
        "\n",
        "X_train, X_test, y_train, y_test = train_test_split(X, y, test_size=0.2, random_state=42)\n",
        "\n",
        "model = LinearRegression()\n",
        "model.fit(X_train, y_train)\n",
        "\n",
        "class Evaluation(ABC):\n",
        "    @abstractmethod\n",
        "    def calculate_scores(self, y_true, y_pred):\n",
        "        pass\n",
        "\n",
        "class MSE(Evaluation):\n",
        "    def calculate_scores(self, y_true, y_pred):\n",
        "        return mean_squared_error(y_true, y_pred)\n",
        "\n",
        "class R2(Evaluation):\n",
        "    def calculate_scores(self, y_true, y_pred):\n",
        "        return r2_score(y_true, y_pred)\n",
        "\n",
        "mse = MSE()\n",
        "r2 = R2()\n",
        "\n",
        "y_pred = model.predict(X_train)\n",
        "\n",
        "mse_score = mse.calculate_scores(y_train, y_pred)\n",
        "r2_score_value = r2.calculate_scores(y_train, y_pred)\n",
        "\n",
        "print(f\"MSE Score: {mse_score}\")\n",
        "print(f\"R2 Score: {r2_score_value}\")\n"
      ]
    },
    {
      "cell_type": "code",
      "execution_count": null,
      "metadata": {},
      "outputs": [],
      "source": []
    }
  ],
  "metadata": {
    "colab": {
      "provenance": []
    },
    "kernelspec": {
      "display_name": "base",
      "language": "python",
      "name": "python3"
    },
    "language_info": {
      "codemirror_mode": {
        "name": "ipython",
        "version": 3
      },
      "file_extension": ".py",
      "mimetype": "text/x-python",
      "name": "python",
      "nbconvert_exporter": "python",
      "pygments_lexer": "ipython3",
      "version": "3.12.3"
    }
  },
  "nbformat": 4,
  "nbformat_minor": 0
}
